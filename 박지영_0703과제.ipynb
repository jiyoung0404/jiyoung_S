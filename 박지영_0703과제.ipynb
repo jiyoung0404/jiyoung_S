{
 "cells": [
  {
   "cell_type": "markdown",
   "metadata": {},
   "source": [
    "## 1. Exercise 105:Reverse Order"
   ]
  },
  {
   "cell_type": "code",
   "execution_count": 1,
   "metadata": {
    "scrolled": true
   },
   "outputs": [
    {
     "name": "stdout",
     "output_type": "stream",
     "text": [
      "3\n",
      "4\n",
      "0\n",
      "4\n",
      "3\n"
     ]
    }
   ],
   "source": [
    "x=[]\n",
    "\n",
    "while True:\n",
    "    a = int(input())\n",
    "    x.append(a)\n",
    "    if a==0:\n",
    "        break;\n",
    "\n",
    "x.reverse()\n",
    "for i in range(1,len(x)):\n",
    "    print(x[i])\n",
    "\n"
   ]
  },
  {
   "cell_type": "markdown",
   "metadata": {},
   "source": [
    "## 2. Exercise 107:Avoiding Duplicates"
   ]
  },
  {
   "cell_type": "code",
   "execution_count": 7,
   "metadata": {},
   "outputs": [
    {
     "name": "stdout",
     "output_type": "stream",
     "text": [
      "first\n",
      "second\n",
      "first\n",
      "second\n",
      "third\n",
      " \n",
      "['first', 'second', 'third']\n"
     ]
    }
   ],
   "source": [
    "x=[]\n",
    "y=[]\n",
    "\n",
    "while True:\n",
    "    y=input()\n",
    "    if y==\" \":\n",
    "        break;\n",
    "    x.append(y)\n",
    "\n",
    "#순서는 유지, 중복 제거 함수\n",
    "def remove_duplicates(li):\n",
    "    my_set=set()\n",
    "    res=[]\n",
    "    for e in li:\n",
    "        if e not in my_set:\n",
    "            res.append(e)\n",
    "            my_set.add(e)\n",
    "    return res\n",
    "\n",
    "x = remove_duplicates(x)\n",
    "print(x)"
   ]
  },
  {
   "cell_type": "markdown",
   "metadata": {},
   "source": [
    "## 3. Exercise 108: Negatives,Zeros and Positives"
   ]
  },
  {
   "cell_type": "code",
   "execution_count": 7,
   "metadata": {},
   "outputs": [
    {
     "name": "stdout",
     "output_type": "stream",
     "text": [
      "3\n",
      "4\n",
      "-2\n",
      "1\n",
      "0\n",
      "-3\n",
      " \n",
      "[-3, -2, 0, 1, 3, 4]\n"
     ]
    }
   ],
   "source": [
    "del x\n",
    "del y\n",
    "\n",
    "x=[]\n",
    "\n",
    "while True:\n",
    "    y=input()\n",
    "    if y==\" \":\n",
    "        break;\n",
    "    b=int(y)\n",
    "    x.append(b)\n",
    "\n",
    "x.sort()\n",
    "print(x)"
   ]
  },
  {
   "cell_type": "markdown",
   "metadata": {},
   "source": [
    "## 4. Exercise 110: Perfect Numbers"
   ]
  },
  {
   "cell_type": "code",
   "execution_count": 29,
   "metadata": {
    "scrolled": false
   },
   "outputs": [
    {
     "name": "stdout",
     "output_type": "stream",
     "text": [
      "28\n",
      "True\n"
     ]
    }
   ],
   "source": [
    "x=[]        \n",
    "total=0\n",
    "\n",
    "def check(num):\n",
    "    for i in range(1,num):\n",
    "        if(num%i==0):\n",
    "            x.append(i)\n",
    "    for i in range(0,len(x)):\n",
    "        global total \n",
    "        #전역변수 사용, global없인 에러\n",
    "        total+=x[i]\n",
    "    if(num==total):\n",
    "        print(\"True\")\n",
    "    else:\n",
    "        print(\"False\")\n",
    "\n",
    "y=int(input())\n",
    "check(y)"
   ]
  },
  {
   "cell_type": "markdown",
   "metadata": {},
   "source": [
    "# 5. Exercise 113: Formatting a List"
   ]
  },
  {
   "cell_type": "code",
   "execution_count": 31,
   "metadata": {},
   "outputs": [
    {
     "name": "stdout",
     "output_type": "stream",
     "text": [
      "6\n",
      "7\n",
      "13\n",
      "21\n",
      "35\n",
      "45\n"
     ]
    }
   ],
   "source": [
    "import random\n",
    "\n",
    "x=[]\n",
    "\n",
    "for i in range(1,7):\n",
    "    y=random.randrange(1,49)\n",
    "    x.append(y)\n",
    "\n",
    "x.sort()\n",
    "for i in range(0,len(x)):\n",
    "    print(x[i])"
   ]
  },
  {
   "cell_type": "markdown",
   "metadata": {},
   "source": [
    "## 6. Exercise 134: Unique Characters"
   ]
  },
  {
   "cell_type": "code",
   "execution_count": 45,
   "metadata": {
    "scrolled": false
   },
   "outputs": [
    {
     "name": "stdout",
     "output_type": "stream",
     "text": [
      "Hello, World!\n",
      "10\n"
     ]
    }
   ],
   "source": [
    "x=\"\"\n",
    "x=str(input())\n",
    "\n",
    "y=[]\n",
    "for i in range(0,len(x)):\n",
    "    y.append(x[i])\n",
    "\n",
    "#순서는 유지, 중복 제거 함수\n",
    "def remove_duplicates(li):\n",
    "    my_set=set()\n",
    "    res=[]\n",
    "    for e in li:\n",
    "        if e not in my_set:\n",
    "            res.append(e)\n",
    "            my_set.add(e)\n",
    "    return res\n",
    "\n",
    "y = remove_duplicates(y)\n",
    "print(len(y))"
   ]
  },
  {
   "cell_type": "markdown",
   "metadata": {},
   "source": [
    "## 7. Exercise 135:Anagrams"
   ]
  },
  {
   "cell_type": "code",
   "execution_count": 46,
   "metadata": {},
   "outputs": [
    {
     "name": "stdout",
     "output_type": "stream",
     "text": [
      "evil\n",
      "live\n",
      "anagrams\n"
     ]
    }
   ],
   "source": [
    "a=\"\"\n",
    "a=str(input())\n",
    "\n",
    "b=\"\"\n",
    "b=str(input())\n",
    "\n",
    "x=[]\n",
    "y=[]\n",
    "\n",
    "sum=0\n",
    "\n",
    "for i in range(0,len(a)):\n",
    "    x.append(a[i])\n",
    "\n",
    "for i in range(0,len(b)):\n",
    "    y.append(b[i])\n",
    "    \n",
    "for i in range(0,len(x)):\n",
    "    for j in range(0,len(y)):\n",
    "        if(len(x)!=len(y)):\n",
    "            print(\"not anagrams\")\n",
    "            break;\n",
    "        if(x[i]==y[j]):\n",
    "            global sum\n",
    "            sum +=1\n",
    "\n",
    "if(sum==len(x)):\n",
    "    print(\"anagrams\")\n",
    "else:\n",
    "    print(\"not anagrams\")\n",
    "        "
   ]
  }
 ],
 "metadata": {
  "kernelspec": {
   "display_name": "Python 3",
   "language": "python",
   "name": "python3"
  },
  "language_info": {
   "codemirror_mode": {
    "name": "ipython",
    "version": 3
   },
   "file_extension": ".py",
   "mimetype": "text/x-python",
   "name": "python",
   "nbconvert_exporter": "python",
   "pygments_lexer": "ipython3",
   "version": "3.6.5"
  }
 },
 "nbformat": 4,
 "nbformat_minor": 2
}
