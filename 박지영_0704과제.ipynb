{
 "cells": [
  {
   "cell_type": "markdown",
   "metadata": {},
   "source": [
    "## 1. Exercise 61:Average"
   ]
  },
  {
   "cell_type": "code",
   "execution_count": 7,
   "metadata": {},
   "outputs": [
    {
     "name": "stdout",
     "output_type": "stream",
     "text": [
      "3\n",
      "2\n",
      "1\n",
      "0\n",
      "2.0\n"
     ]
    }
   ],
   "source": [
    "x=[]\n",
    "y=[]\n",
    "sum=0\n",
    "\n",
    "while True:\n",
    "    y=input()\n",
    "    if y==\"0\":\n",
    "        break;\n",
    "    x.append(y)\n",
    "\n",
    "for i in range(0,len(x)):\n",
    "    global sum\n",
    "    sum += int(x[i])\n",
    "\n",
    "result = sum / len(x)\n",
    "print(result)"
   ]
  },
  {
   "cell_type": "markdown",
   "metadata": {},
   "source": [
    "## 2. Exercise 63:Temperature Conversion Table"
   ]
  },
  {
   "cell_type": "code",
   "execution_count": 4,
   "metadata": {},
   "outputs": [
    {
     "name": "stdout",
     "output_type": "stream",
     "text": [
      "섭씨가 10일때, 화씨는 50입니다\n",
      "섭씨가 20일때, 화씨는 68입니다\n",
      "섭씨가 30일때, 화씨는 86입니다\n",
      "섭씨가 40일때, 화씨는 104입니다\n",
      "섭씨가 50일때, 화씨는 122입니다\n",
      "섭씨가 60일때, 화씨는 140입니다\n",
      "섭씨가 70일때, 화씨는 158입니다\n",
      "섭씨가 80일때, 화씨는 176입니다\n",
      "섭씨가 90일때, 화씨는 194입니다\n",
      "섭씨가 100일때, 화씨는 212입니다\n"
     ]
    }
   ],
   "source": [
    "x=10\n",
    "\n",
    "while True:\n",
    "    global x\n",
    "    if(x==110):\n",
    "        break;\n",
    "    result = (x*1.8)+32\n",
    "    print(\"섭씨가 %d일때, 화씨는 %d입니다\" %(x,result))\n",
    "    x += 10\n",
    "    "
   ]
  },
  {
   "cell_type": "markdown",
   "metadata": {},
   "source": [
    "## 3. Exercise 66: Compute a Grade Point Average"
   ]
  },
  {
   "cell_type": "code",
   "execution_count": 5,
   "metadata": {},
   "outputs": [
    {
     "name": "stdout",
     "output_type": "stream",
     "text": [
      "A\n",
      "C+\n",
      "B\n",
      " \n",
      "3.16\n"
     ]
    }
   ],
   "source": [
    "x=[]\n",
    "y=[]\n",
    "sum=0\n",
    "\n",
    "while True:\n",
    "    y=input()\n",
    "    if y==\" \":\n",
    "        break;\n",
    "    x.append(y)\n",
    "\n",
    "for i in range(0,len(x)):\n",
    "    global sum\n",
    "    if(x[i]==\"A+\"):\n",
    "        sum += 4.5\n",
    "    if(x[i]==\"A\"):\n",
    "        sum += 4\n",
    "    if(x[i]==\"A-\"):\n",
    "        sum += 3.7\n",
    "    if(x[i]==\"B+\"):\n",
    "        sum += 3.5\n",
    "    if(x[i]==\"B\"):\n",
    "        sum += 3\n",
    "    if(x[i]==\"B-\"):\n",
    "        sum += 2.7\n",
    "    if(x[i]==\"C+\"):\n",
    "        sum += 2.5\n",
    "    if(x[i]==\"C\"):\n",
    "        sum += 2\n",
    "    if(x[i]==\"C-\"):\n",
    "        sum += 1.7\n",
    "    if(x[i]==\"D+\"):\n",
    "        sum += 1.3\n",
    "    if(x[i]==\"D-\"):\n",
    "        sum += 1.0\n",
    "    if(x[i]==\"F\"):\n",
    "        sum += 0\n",
    "\n",
    "result = sum / len(x)\n",
    "result = int(result*100)\n",
    "result = result/100\n",
    "print(result)"
   ]
  },
  {
   "cell_type": "markdown",
   "metadata": {},
   "source": [
    "## 4. Exercise 67:Admission Price"
   ]
  },
  {
   "cell_type": "code",
   "execution_count": 68,
   "metadata": {},
   "outputs": [
    {
     "name": "stdout",
     "output_type": "stream",
     "text": [
      "1\n",
      "11\n",
      "70\n",
      "21\n",
      " \n",
      "55\n"
     ]
    }
   ],
   "source": [
    "sum=0\n",
    "\n",
    "while True:\n",
    "    y=input()\n",
    "    if y==\" \":\n",
    "        break;\n",
    "    y=int(y)\n",
    "    global sum\n",
    "    if(y<=2):\n",
    "        sum += 0\n",
    "    elif(3<=y<=12):\n",
    "        sum += 14\n",
    "    elif(65<=y):\n",
    "        sum += 18\n",
    "    else:\n",
    "        sum += 23\n",
    "        \n",
    "print(sum)"
   ]
  },
  {
   "cell_type": "markdown",
   "metadata": {},
   "source": [
    "## 5. Exercise 72: Is a String a Palindrome?"
   ]
  },
  {
   "cell_type": "code",
   "execution_count": 83,
   "metadata": {},
   "outputs": [
    {
     "name": "stdout",
     "output_type": "stream",
     "text": [
      "civic\n",
      "Palindrome\n"
     ]
    }
   ],
   "source": [
    "a=\"\"\n",
    "a=str(input())\n",
    "\n",
    "x=[]\n",
    "sum=0\n",
    "\n",
    "for i in range(0,len(a)):\n",
    "    x.append(a[i])\n",
    "\n",
    "k=int(len(a)/2)\n",
    "\n",
    "for i in range(0,k):\n",
    "        if(x[i]==x[len(a)-i-1]):\n",
    "            global sum\n",
    "            sum+=1\n",
    "\n",
    "if(sum==k):\n",
    "    print(\"Palindrome\")\n",
    "else:\n",
    "    print(\"Not Palindrome\")"
   ]
  },
  {
   "cell_type": "markdown",
   "metadata": {},
   "source": [
    "## 6. Exercise 74: Multiplication Table"
   ]
  },
  {
   "cell_type": "code",
   "execution_count": 12,
   "metadata": {},
   "outputs": [
    {
     "name": "stdout",
     "output_type": "stream",
     "text": [
      "　\t1\t2\t3\t4\t5\t6\t7\t8\t9\t10\t\n",
      "\n",
      "1\t1\t2\t3\t4\t5\t6\t7\t8\t9\t10\t\n",
      "\n",
      "2\t2\t4\t6\t8\t10\t12\t14\t16\t18\t20\t\n",
      "\n",
      "3\t3\t6\t9\t12\t15\t18\t21\t24\t27\t30\t\n",
      "\n",
      "4\t4\t8\t12\t16\t20\t24\t28\t32\t36\t40\t\n",
      "\n",
      "5\t5\t10\t15\t20\t25\t30\t35\t40\t45\t50\t\n",
      "\n",
      "6\t6\t12\t18\t24\t30\t36\t42\t48\t54\t60\t\n",
      "\n",
      "7\t7\t14\t21\t28\t35\t42\t49\t56\t63\t70\t\n",
      "\n",
      "8\t8\t16\t24\t32\t40\t48\t56\t64\t72\t80\t\n",
      "\n",
      "9\t9\t18\t27\t36\t45\t54\t63\t72\t81\t90\t\n",
      "\n",
      "10\t10\t20\t30\t40\t50\t60\t70\t80\t90\t100\t\n",
      "\n"
     ]
    }
   ],
   "source": [
    "print(\"　\", end=\"\\t\")\n",
    "for i in range(1,11):\n",
    "    print(i, end=\"\\t\")\n",
    "print(\"\\n\")\n",
    "\n",
    "for i in range(1,11):\n",
    "    print(i, end=\"\\t\")\n",
    "    for j in range(1,11):\n",
    "        print(i*j, end=\"\\t\")\n",
    "    print(\"\\n\")"
   ]
  },
  {
   "cell_type": "markdown",
   "metadata": {},
   "source": [
    "## 7. Exercise 75: Greatest Common Divisor"
   ]
  },
  {
   "cell_type": "code",
   "execution_count": 42,
   "metadata": {},
   "outputs": [
    {
     "name": "stdout",
     "output_type": "stream",
     "text": [
      "18\n",
      "24\n",
      "6\n"
     ]
    }
   ],
   "source": [
    "x=int(input())\n",
    "y=int(input())\n",
    "\n",
    "def gcd(a, b):\n",
    "    if a < b:\n",
    "        (a, b) = (b, a)\n",
    "    while b != 0:\n",
    "        (a, b) = (b, a % b)\n",
    "    return a\n",
    "\n",
    "print(gcd(x,y))"
   ]
  },
  {
   "cell_type": "markdown",
   "metadata": {},
   "source": [
    "## 8. Exercise 77: Binary to Decimal"
   ]
  },
  {
   "cell_type": "code",
   "execution_count": 56,
   "metadata": {},
   "outputs": [
    {
     "name": "stdout",
     "output_type": "stream",
     "text": [
      "11110\n",
      "30\n"
     ]
    }
   ],
   "source": [
    "a=str(input())\n",
    "type(a)\n",
    "print(int(a,2))"
   ]
  },
  {
   "cell_type": "markdown",
   "metadata": {},
   "source": [
    "## 9. Exercise 78 : Decimal to Binary"
   ]
  },
  {
   "cell_type": "code",
   "execution_count": 50,
   "metadata": {},
   "outputs": [
    {
     "name": "stdout",
     "output_type": "stream",
     "text": [
      "15\n",
      "1111\n"
     ]
    }
   ],
   "source": [
    "x=int(input())\n",
    "\n",
    "def convert(n, base):\n",
    "    T = \"0123456789ABCDEF\"\n",
    "    q, r = divmod(n, base)\n",
    "    if q == 0:\n",
    "        return T[r]\n",
    "    else:\n",
    "        return convert(q, base) + T[r]\n",
    "\n",
    "print(convert(x, 2))"
   ]
  }
 ],
 "metadata": {
  "kernelspec": {
   "display_name": "Python 3",
   "language": "python",
   "name": "python3"
  }
 },
 "nbformat": 4,
 "nbformat_minor": 2
}
