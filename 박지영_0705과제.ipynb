{
 "cells": [
  {
   "cell_type": "markdown",
   "metadata": {},
   "source": [
    "## 1. Exercise 82:Taxi Fare"
   ]
  },
  {
   "cell_type": "code",
   "execution_count": 3,
   "metadata": {},
   "outputs": [
    {
     "name": "stdout",
     "output_type": "stream",
     "text": [
      "280\n",
      "4.5\n"
     ]
    }
   ],
   "source": [
    "fare = 4\n",
    "\n",
    "def total(meter):\n",
    "    global fare\n",
    "    if(meter%140==0):\n",
    "        x=meter/140\n",
    "        fare+=0.25*x\n",
    "    else:\n",
    "        x=(meter/140)+1\n",
    "        fare+=0.25*x\n",
    "\n",
    "m=int(input())\n",
    "total(m)\n",
    "print(fare)"
   ]
  },
  {
   "cell_type": "markdown",
   "metadata": {},
   "source": [
    "## 2. Exercise 84: Median of Three Values"
   ]
  },
  {
   "cell_type": "code",
   "execution_count": 5,
   "metadata": {},
   "outputs": [
    {
     "name": "stdout",
     "output_type": "stream",
     "text": [
      "3\n",
      "4\n",
      "5\n"
     ]
    },
    {
     "data": {
      "text/plain": [
       "4"
      ]
     },
     "execution_count": 5,
     "metadata": {},
     "output_type": "execute_result"
    }
   ],
   "source": [
    "x=int(input())\n",
    "y=int(input())\n",
    "z=int(input())\n",
    "\n",
    "def middle_return(a,b,c):\n",
    "    d=[]\n",
    "    d.append(a)\n",
    "    d.append(b)\n",
    "    d.append(c)\n",
    "    d.sort()\n",
    "    return d[1]\n",
    "\n",
    "middle_return(x,y,z)"
   ]
  },
  {
   "cell_type": "markdown",
   "metadata": {},
   "source": [
    "## 3. Exercise 85: Convert an Integer to its Ordinal Number"
   ]
  },
  {
   "cell_type": "code",
   "execution_count": 6,
   "metadata": {},
   "outputs": [
    {
     "name": "stdout",
     "output_type": "stream",
     "text": [
      "3\n"
     ]
    },
    {
     "data": {
      "text/plain": [
       "'third'"
      ]
     },
     "execution_count": 6,
     "metadata": {},
     "output_type": "execute_result"
    }
   ],
   "source": [
    "x=int(input())\n",
    "\n",
    "def ordinal_return(a):\n",
    "    d=\"\"\n",
    "    if(a==1):\n",
    "        d=\"first\"\n",
    "    elif(a==2):\n",
    "        d=\"second\"\n",
    "    elif(a==3):\n",
    "        d=\"third\"\n",
    "    elif(a==4):\n",
    "        d=\"fourth\"\n",
    "    elif(a==5):\n",
    "        d=\"fifth\"\n",
    "    elif(a==6):\n",
    "        d=\"sixth\"\n",
    "    elif(a==7):\n",
    "        d=\"seventh\"\n",
    "    elif(a==8):\n",
    "        d=\"eighth\"\n",
    "    elif(a==9):\n",
    "        d=\"nineth\"\n",
    "    elif(a==10):\n",
    "        d=\"tenth\"\n",
    "    elif(a==11):\n",
    "        d=\"eleventh\"\n",
    "    elif(a==12):\n",
    "        d=\"twelveth\"\n",
    "    else:\n",
    "        d=\"\"\n",
    "    return d\n",
    "\n",
    "ordinal_return(x)\n",
    "    "
   ]
  },
  {
   "cell_type": "markdown",
   "metadata": {},
   "source": [
    "## 4. Exercise 88: Is it a Valid Triangle?"
   ]
  },
  {
   "cell_type": "code",
   "execution_count": 8,
   "metadata": {},
   "outputs": [
    {
     "name": "stdout",
     "output_type": "stream",
     "text": [
      "3\n",
      "4\n",
      "5\n"
     ]
    },
    {
     "data": {
      "text/plain": [
       "True"
      ]
     },
     "execution_count": 8,
     "metadata": {},
     "output_type": "execute_result"
    }
   ],
   "source": [
    "x=int(input())\n",
    "y=int(input())\n",
    "z=int(input())\n",
    "\n",
    "def check_return(a,b,c):\n",
    "    d=[]\n",
    "    d.append(a)\n",
    "    d.append(b)\n",
    "    d.append(c)\n",
    "    d.sort()\n",
    "    if(d[0]+d[1]>d[2]):\n",
    "        return True\n",
    "    else:\n",
    "        return False\n",
    "    \n",
    "check_return(x,y,z)"
   ]
  },
  {
   "cell_type": "markdown",
   "metadata": {},
   "source": [
    "## 5. Exercise 92: Is a Number Prime?"
   ]
  },
  {
   "cell_type": "code",
   "execution_count": 12,
   "metadata": {},
   "outputs": [
    {
     "name": "stdout",
     "output_type": "stream",
     "text": [
      "13\n"
     ]
    },
    {
     "data": {
      "text/plain": [
       "True"
      ]
     },
     "execution_count": 12,
     "metadata": {},
     "output_type": "execute_result"
    }
   ],
   "source": [
    "x=int(input())\n",
    "\n",
    "def IsPrime(a):\n",
    "    for i in range(2,a):\n",
    "        if(a%i==0):\n",
    "            return False\n",
    "    return True\n",
    "IsPrime(x)"
   ]
  },
  {
   "cell_type": "markdown",
   "metadata": {},
   "source": [
    "# 추가 문제"
   ]
  },
  {
   "cell_type": "markdown",
   "metadata": {},
   "source": [
    "## 1. Exercise 86:The Twelve Days of Christmas"
   ]
  },
  {
   "cell_type": "code",
   "execution_count": 10,
   "metadata": {},
   "outputs": [
    {
     "name": "stdout",
     "output_type": "stream",
     "text": [
      "4\n"
     ]
    },
    {
     "data": {
      "text/plain": [
       "'On the second day of Christmas'"
      ]
     },
     "execution_count": 10,
     "metadata": {},
     "output_type": "execute_result"
    }
   ],
   "source": [
    "x=int(input())\n",
    "\n",
    "def printVerse(a):\n",
    "    d=[]\n",
    "    d.append(\"On the first day of Christmas\")\n",
    "    d.append(\"my true love sent to me:\")\n",
    "    d.append(\"A partridge in a pear tree.\")\n",
    "    d.append(\"On the second day of Christmas\")\n",
    "    d.append(\"my true love sent to me:\")\n",
    "    d.append(\"Two turtle doves,\")\n",
    "    d.append(\"And a partridge in a pear tree\")\n",
    "    d.append(\"On the third day of Christmas\")\n",
    "    d.append(\"my true love sent to me:\")\n",
    "    d.append(\"Three French hens,\")\n",
    "    d.append(\"Two turtle doves,\")\n",
    "    d.append(\"And a partridge in a pear tree.\")\n",
    "    return d[a-1]\n",
    "printVerse(x)"
   ]
  },
  {
   "cell_type": "markdown",
   "metadata": {},
   "source": [
    "## 4. Exercise 93: Next Prime"
   ]
  },
  {
   "cell_type": "code",
   "execution_count": 14,
   "metadata": {},
   "outputs": [
    {
     "name": "stdout",
     "output_type": "stream",
     "text": [
      "34\n",
      "37\n"
     ]
    }
   ],
   "source": [
    "x=int(input())\n",
    "\n",
    "def IsPrime(a):\n",
    "    for i in range(2,a):\n",
    "        if(a%i==0):\n",
    "            return False\n",
    "    return True\n",
    "\n",
    "while True:\n",
    "    x+=1\n",
    "    if(IsPrime(x)==True):\n",
    "        break;\n",
    "\n",
    "print(x)"
   ]
  },
  {
   "cell_type": "markdown",
   "metadata": {},
   "source": [
    "## 5. Exercise 96: Check a Password"
   ]
  },
  {
   "cell_type": "code",
   "execution_count": 18,
   "metadata": {},
   "outputs": [
    {
     "name": "stdout",
     "output_type": "stream",
     "text": [
      "HiImjiyoung0\n"
     ]
    },
    {
     "data": {
      "text/plain": [
       "True"
      ]
     },
     "execution_count": 18,
     "metadata": {},
     "output_type": "execute_result"
    }
   ],
   "source": [
    "x=str(input())\n",
    "\n",
    "def Check_password(s):\n",
    "    small=0\n",
    "    big=0\n",
    "    number=0\n",
    "    for i in range(0,len(s)):\n",
    "        if('a'<=x[i]<='z'):\n",
    "            small += 1\n",
    "        if('A'<=x[i]<='Z'):\n",
    "            big += 1\n",
    "        if('0'<=x[i]<='9'):\n",
    "            number+=1\n",
    "    if(small==0 or big==0 or number==0):\n",
    "        return False\n",
    "    else:\n",
    "        return True\n",
    "\n",
    "Check_password(x)"
   ]
  }
 ],
 "metadata": {
  "kernelspec": {
   "display_name": "Python 3",
   "language": "python",
   "name": "python3"
  },
  "language_info": {
   "codemirror_mode": {
    "name": "ipython",
    "version": 3
   },
   "file_extension": ".py",
   "mimetype": "text/x-python",
   "name": "python",
   "nbconvert_exporter": "python",
   "pygments_lexer": "ipython3",
   "version": "3.6.5"
  }
 },
 "nbformat": 4,
 "nbformat_minor": 2
}
