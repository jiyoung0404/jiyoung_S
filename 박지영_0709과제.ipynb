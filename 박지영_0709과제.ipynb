{
 "cells": [
  {
   "cell_type": "markdown",
   "metadata": {},
   "source": [
    "## Exercise 129:Two Dice Simulation"
   ]
  },
  {
   "cell_type": "code",
   "execution_count": 61,
   "metadata": {},
   "outputs": [
    {
     "name": "stdout",
     "output_type": "stream",
     "text": [
      "Total\tSimulated Percent\tExpected Percent\n",
      "\n",
      "\n",
      "2\t1.92\t\t\t2.78\n",
      "\n",
      "\n",
      "3\t1.86\t\t\t5.56\n",
      "\n",
      "\n",
      "4\t1.6\t\t\t8.33\n",
      "\n",
      "\n",
      "5\t1.68\t\t\t11.11\n",
      "\n",
      "\n",
      "6\t1.6\t\t\t13.89\n",
      "\n",
      "\n",
      "7\t2.04\t\t\t16.67\n",
      "\n",
      "\n",
      "8\t1.66\t\t\t13.89\n",
      "\n",
      "\n",
      "9\t1.84\t\t\t11.11\n",
      "\n",
      "\n",
      "10\t1.68\t\t\t8.33\n",
      "\n",
      "\n",
      "11\t1.98\t\t\t5.56\n",
      "\n",
      "\n",
      "12\t1.58\t\t\t2.78\n",
      "\n",
      "\n"
     ]
    }
   ],
   "source": [
    "import random\n",
    "\n",
    "def sum_program(a,b):\n",
    "    return a+b\n",
    "\n",
    "a=[0]*13\n",
    "e=[\"2.78\",\"5.56\",\"8.33\",\"11.11\",\"13.89\",\"16.67\",\"13.89\",\"11.11\",\"8.33\",\"5.56\",\"2.78\"]\n",
    "\n",
    "for i in range(1000):\n",
    "    for j in range(2,13):\n",
    "        if(j==random.randrange(2,13)):\n",
    "            a[j] = int(a[j])+k\n",
    "\n",
    "for j in range(2,13):\n",
    "    a[j]=int(a[j])/100\n",
    "    \n",
    "    \n",
    "print(\"Total\", end=\"\\t\")\n",
    "print(\"Simulated Percent\", end=\"\\t\")\n",
    "print(\"Expected Percent\")\n",
    "print(\"\\n\")\n",
    "    \n",
    "for i in range(2,13):\n",
    "    print(i, end=\"\\t\")\n",
    "    print(a[i], end=\"\\t\\t\\t\")\n",
    "    print(e[i-2])\n",
    "    print(\"\\n\")"
   ]
  },
  {
   "cell_type": "markdown",
   "metadata": {},
   "source": [
    "## Exercise 130:Text Messaging"
   ]
  },
  {
   "cell_type": "code",
   "execution_count": 54,
   "metadata": {},
   "outputs": [
    {
     "name": "stdout",
     "output_type": "stream",
     "text": [
      "Hello, World!\n",
      "443355555566611010966677755531111"
     ]
    }
   ],
   "source": [
    "one=['.',',','?','!',':']\n",
    "two=['A','B','C']\n",
    "three=['D','E','F']\n",
    "four=['G','H','I']\n",
    "five=['J','K','L']\n",
    "six=['M','N','O']\n",
    "seven=['P','Q','R','S']\n",
    "eight=['T','U','V']\n",
    "nine=['W','X','Y','Z']\n",
    "zero=[' ']\n",
    "\n",
    "total=[one, two, three, four, five, six, seven, eight, nine, zero]\n",
    "\n",
    "a=input()\n",
    "result=a.upper()\n",
    "\n",
    "b=[]\n",
    "\n",
    "\n",
    "for i in range(0,len(result)):\n",
    "    for j in range(0,len(total)):\n",
    "        for k in range(0, len(total[j])):\n",
    "            if(result[i]==total[j][k]):\n",
    "                if(j==9):\n",
    "                    b.append(0)\n",
    "                for m in range(k+1):\n",
    "                    b.append(j+1)  \n",
    "                \n",
    "for i in range(0,len(b)):\n",
    "    print(b[i],end=\"\")"
   ]
  },
  {
   "cell_type": "markdown",
   "metadata": {},
   "source": [
    "## Exercise 131: Morse Code"
   ]
  },
  {
   "cell_type": "code",
   "execution_count": 6,
   "metadata": {},
   "outputs": [
    {
     "name": "stdout",
     "output_type": "stream",
     "text": [
      "Hello, World!\n",
      "......-...-..---.-----.-..-..-.."
     ]
    }
   ],
   "source": [
    "A=[\"A\",\".-\"]\n",
    "B=[\"B\",\"-...\"]\n",
    "C=[\"C\",\"-.-.\"]\n",
    "D=[\"D\",\"-..\"]\n",
    "E=[\"E\",\".\"]\n",
    "F=[\"F\",\"..-.\"]\n",
    "G=[\"G\",\"--.\"]\n",
    "H=[\"H\",\"....\"]\n",
    "I=[\"I\",\"..\"]\n",
    "J=[\"J\",\".---\"]\n",
    "K=[\"K\",\"-.-\"]\n",
    "L=[\"L\",\".-..\"]\n",
    "M=[\"M\",\"--\"]\n",
    "N=[\"N\",\"-.\"]\n",
    "O=[\"O\",\"---\"]\n",
    "P=[\"P\",\".--.\"]\n",
    "Q=[\"Q\",\"--.-\"]\n",
    "R=[\"R\",\".-.\"]\n",
    "S=[\"S\",\"...\"]\n",
    "T=[\"T\",\"-\"]\n",
    "U=[\"U\",\"..-\"]\n",
    "V=[\"V\",\"...-\"]\n",
    "W=[\"W\",\".--\"]\n",
    "X=[\"X\",\"-..-\"]\n",
    "Y=[\"Y\",\"-.--\"]\n",
    "Z=[\"Z\",\"--..\"]\n",
    "\n",
    "sum1 = [A,B,C,D,E,F,G,H,I,J,K,L,M,N,O,P,Q,R,S,T,U,V,W,X,Y,Z]\n",
    "sum2 = [\"-----\",\".---\",\"..---\",\"...--\",\"....-\",\".....\",\"-....\",\"--...\",\"---..\",\"----.\"]\n",
    "\n",
    "a=input()\n",
    "result=a.upper()\n",
    "\n",
    "for i in range(0,len(result)):\n",
    "    s=result[i]\n",
    "    for j in range(0,len(sum1)):\n",
    "        if(s==sum1[j][0]):\n",
    "            print(sum1[j][1], end=\"\")\n"
   ]
  },
  {
   "cell_type": "markdown",
   "metadata": {},
   "source": [
    "## Exercise 132: Postal Codes"
   ]
  },
  {
   "cell_type": "code",
   "execution_count": 32,
   "metadata": {},
   "outputs": [
    {
     "name": "stdout",
     "output_type": "stream",
     "text": [
      "T2N 1N4\n",
      "Alberta\n",
      "도시\n"
     ]
    }
   ],
   "source": [
    "a=input()\n",
    "s=a[0]\n",
    "\n",
    "if(s==\"A\"):\n",
    "    print(\"Newfoundland\")\n",
    "elif(s==\"B\"):\n",
    "    print(\"Nova Scotia\")\n",
    "elif(s==\"C\"):\n",
    "    print(\"Prince Edward Island\")\n",
    "elif(s==\"E\"):\n",
    "    print(\"New Brunswick\") \n",
    "elif(s==\"G\" or s==\"H\" or s==\"j\"):\n",
    "     print(\"Quebec\")\n",
    "elif(s==\"K\" or s==\"L\" or s== \"M\" or s==\"N\" or s==\"P\"):\n",
    "    print(\"Ontario\")\n",
    "elif(s==\"R\"):\n",
    "    print(\"Manitoba\")\n",
    "elif(s==\"S\"):\n",
    "    print(\"Saskatchewan\")\n",
    "elif(s==\"T\"):\n",
    "    print(\"Alberta\")\n",
    "elif(s==\"V\"):\n",
    "    print(\"British Columbia\") \n",
    "elif(s==\"X\"):\n",
    "    print(\"Nunavut 또는 Northwest Territories\")\n",
    "elif(s==\"Y\"):\n",
    "    print(\"YuKon\")\n",
    "    \n",
    "if(a[1]==\"0\"):\n",
    "    print(\"시골\")\n",
    "else:\n",
    "    print(\"도시\")"
   ]
  }
 ],
 "metadata": {
  "kernelspec": {
   "display_name": "Python 3",
   "language": "python",
   "name": "python3"
  },
  "language_info": {
   "codemirror_mode": {
    "name": "ipython",
    "version": 3
   },
   "file_extension": ".py",
   "mimetype": "text/x-python",
   "name": "python",
   "nbconvert_exporter": "python",
   "pygments_lexer": "ipython3",
   "version": "3.6.5"
  }
 },
 "nbformat": 4,
 "nbformat_minor": 2
}
